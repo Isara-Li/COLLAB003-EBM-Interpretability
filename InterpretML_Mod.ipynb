{
  "cells": [
    {
      "cell_type": "code",
      "execution_count": 1,
      "metadata": {
        "id": "71M3CaviKu_9"
      },
      "outputs": [],
      "source": [
        "import argparse\n",
        "import os\n",
        "import random\n",
        "import joblib\n",
        "from typing import Tuple, Dict, Any\n",
        "import numpy as np\n",
        "import pandas as pd\n",
        "from sklearn.model_selection import train_test_split, StratifiedKFold\n",
        "from sklearn.preprocessing import StandardScaler, OneHotEncoder, FunctionTransformer\n",
        "from sklearn.compose import ColumnTransformer\n",
        "from sklearn.pipeline import Pipeline\n",
        "from sklearn.metrics import roc_auc_score, f1_score, accuracy_score\n",
        "from sklearn.linear_model import LogisticRegression"
      ]
    },
    {
      "cell_type": "code",
      "execution_count": 2,
      "metadata": {
        "id": "Cn3SAOwZK0Bo"
      },
      "outputs": [
        {
          "name": "stderr",
          "output_type": "stream",
          "text": [
            "c:\\Users\\Isara Liyanage\\AppData\\Local\\Programs\\Python\\Python312\\Lib\\site-packages\\tqdm\\auto.py:21: TqdmWarning: IProgress not found. Please update jupyter and ipywidgets. See https://ipywidgets.readthedocs.io/en/stable/user_install.html\n",
            "  from .autonotebook import tqdm as notebook_tqdm\n"
          ]
        }
      ],
      "source": [
        "# InterpretML\n",
        "from interpret.glassbox import ExplainableBoostingClassifier, ExplainableBoostingRegressor\n",
        "# Optuna for Bayesian-style optimization\n",
        "import optuna\n",
        "\n",
        "# PyTorch for self-supervised pretraining\n",
        "import torch\n",
        "import torch.nn as nn\n",
        "from torch.utils.data import DataLoader, TensorDataset\n"
      ]
    },
    {
      "cell_type": "code",
      "execution_count": 3,
      "metadata": {
        "id": "hy1aYoOLNGr4"
      },
      "outputs": [],
      "source": [
        "import matplotlib.pyplot as plt\n",
        "from interpret.glassbox import ExplainableBoostingClassifier\n",
        "from interpret import show\n",
        "from sklearn.metrics import roc_auc_score, f1_score, accuracy_score, confusion_matrix, ConfusionMatrixDisplay"
      ]
    },
    {
      "cell_type": "code",
      "execution_count": 4,
      "metadata": {
        "colab": {
          "base_uri": "https://localhost:8080/"
        },
        "id": "qrBfZ8uuK6jQ",
        "outputId": "a64d0051-7666-4b04-b88a-fad05eeb33b3"
      },
      "outputs": [
        {
          "data": {
            "text/plain": [
              "<torch._C.Generator at 0x17879d96350>"
            ]
          },
          "execution_count": 4,
          "metadata": {},
          "output_type": "execute_result"
        }
      ],
      "source": [
        "SEED = 42\n",
        "random.seed(SEED)\n",
        "np.random.seed(SEED)\n",
        "torch.manual_seed(SEED)"
      ]
    },
    {
      "cell_type": "code",
      "execution_count": 5,
      "metadata": {
        "id": "iE2tRsGAK_N_"
      },
      "outputs": [],
      "source": [
        "def demographic_parity_difference(y_true, y_pred_proba, sensitive: np.ndarray, threshold=0.5):\n",
        "    \"\"\"Abs difference between positive rates across groups (binary sensitive).\"\"\"\n",
        "    preds = (y_pred_proba >= threshold).astype(int)\n",
        "    groups = np.unique(sensitive)\n",
        "    rates = []\n",
        "    for g in groups:\n",
        "        mask = (sensitive == g)\n",
        "        if mask.sum() == 0:\n",
        "            rates.append(0.0)\n",
        "        else:\n",
        "            rates.append(preds[mask].mean())\n",
        "    return abs(rates[0] - rates[1]) if len(rates) >= 2 else 0.0"
      ]
    },
    {
      "cell_type": "code",
      "execution_count": 6,
      "metadata": {
        "id": "D19LJELyLBpF"
      },
      "outputs": [],
      "source": [
        "def equalized_odds_difference(y_true, y_pred_proba, sensitive: np.ndarray, threshold=0.5):\n",
        "    \"\"\"Max absolute difference in TPR and FPR across groups (binary sensitive).\"\"\"\n",
        "    preds = (y_pred_proba >= threshold).astype(int)\n",
        "    groups = np.unique(sensitive)\n",
        "    tprs = []\n",
        "    fprs = []\n",
        "    for g in groups:\n",
        "        mask = (sensitive == g)\n",
        "        if mask.sum() == 0:\n",
        "            tprs.append(0.0)\n",
        "            fprs.append(0.0)\n",
        "            continue\n",
        "        tp = ((y_true == 1) & (preds == 1) & mask).sum()\n",
        "        fn = ((y_true == 1) & (preds == 0) & mask).sum()\n",
        "        fp = ((y_true == 0) & (preds == 1) & mask).sum()\n",
        "        tn = ((y_true == 0) & (preds == 0) & mask).sum()\n",
        "        tprs.append(tp / (tp + fn) if (tp + fn) > 0 else 0.0)\n",
        "        fprs.append(fp / (fp + tn) if (fp + tn) > 0 else 0.0)\n",
        "    # Differences\n",
        "    tpr_diff = abs(tprs[0] - tprs[1]) if len(tprs) >= 2 else 0.0\n",
        "    fpr_diff = abs(fprs[0] - fprs[1]) if len(fprs) >= 2 else 0.0\n",
        "    return max(tpr_diff, fpr_diff)"
      ]
    },
    {
      "cell_type": "code",
      "execution_count": 7,
      "metadata": {
        "id": "OQfM66VILD2d"
      },
      "outputs": [],
      "source": [
        "def empirical_robustness_noise(model_predict_proba, X, y, noise_std_list=[0.01, 0.05, 0.1]):\n",
        "    \"\"\"Simple robustness: drop in ROC AUC under additive Gaussian noise.\"\"\"\n",
        "    base_auc = roc_auc_score(y, model_predict_proba(X))\n",
        "    results = {'base_auc': base_auc}\n",
        "    for std in noise_std_list:\n",
        "        Xp = X + np.random.normal(0, std, size=X.shape)\n",
        "        auc = roc_auc_score(y, model_predict_proba(Xp))\n",
        "        results[f'auc_noise_{std}'] = auc\n",
        "    return results\n"
      ]
    },
    {
      "cell_type": "code",
      "execution_count": 8,
      "metadata": {
        "id": "-vI3ivH5LGrR"
      },
      "outputs": [],
      "source": [
        "def load_adult_dataset() -> Tuple[pd.DataFrame, pd.Series, np.ndarray]:\n",
        "    \"\"\"Load Adult dataset directly from UCI repository.\"\"\"\n",
        "    url = \"https://archive.ics.uci.edu/ml/machine-learning-databases/adult/adult.data\"\n",
        "    df = pd.read_csv(\n",
        "        url,\n",
        "        header=None,\n",
        "        names=[\n",
        "            \"Age\", \"WorkClass\", \"fnlwgt\", \"Education\", \"EducationNum\",\n",
        "            \"MaritalStatus\", \"Occupation\", \"Relationship\", \"Race\", \"Sex\",\n",
        "            \"CapitalGain\", \"CapitalLoss\", \"HoursPerWeek\", \"NativeCountry\", \"Income\"\n",
        "        ]\n",
        "    )\n",
        "\n",
        "    # Label mapping: \">50K\" -> 1, \"<=50K\" -> 0\n",
        "    df['Income'] = df['Income'].str.strip()\n",
        "    y = df['Income'].apply(lambda s: 1 if s == '>50K' else 0).astype(int)\n",
        "\n",
        "    # Features\n",
        "    X = df.drop(columns=['Income'])\n",
        "\n",
        "    # Sensitive attribute (as before): \"Sex\"\n",
        "    sensitive = (X['Sex'].str.strip() == 'Male').astype(int).values\n",
        "\n",
        "    return X, y, sensitive"
      ]
    },
    {
      "cell_type": "code",
      "execution_count": 9,
      "metadata": {
        "id": "FSoJb3xXLLNM"
      },
      "outputs": [],
      "source": [
        "DATASET_LOADERS = {\n",
        "    'adult': load_adult_dataset,\n",
        "}\n"
      ]
    },
    {
      "cell_type": "code",
      "execution_count": 10,
      "metadata": {
        "id": "Jr2xU7slLOiv"
      },
      "outputs": [],
      "source": [
        "def build_adult_preprocessor(X: pd.DataFrame):\n",
        "    \"\"\"Auto-detect categorical and numeric columns and build a ColumnTransformer with \n",
        "    the same preprocessing steps as benchmark_models.\"\"\"\n",
        "    # Detect categorical and numeric columns\n",
        "    is_cat = np.array([dt.kind == 'O' for dt in X.dtypes])\n",
        "    cat_cols = X.columns.values[is_cat]\n",
        "    num_cols = X.columns.values[~is_cat]\n",
        "\n",
        "    # Pipelines\n",
        "    cat_pipe = Pipeline([\n",
        "        ('ohe', OneHotEncoder(sparse_output=False, handle_unknown='ignore'))\n",
        "    ])\n",
        "    num_pipe = Pipeline([\n",
        "        ('identity', FunctionTransformer())\n",
        "    ])\n",
        "    ct = ColumnTransformer(\n",
        "        transformers=[\n",
        "            ('cat', cat_pipe, cat_cols),\n",
        "            ('num', num_pipe, num_cols)\n",
        "        ]\n",
        "    )\n",
        "    preproc = Pipeline([\n",
        "        ('ct', ct),\n",
        "        ('std', StandardScaler())\n",
        "    ])\n",
        "\n",
        "    return preproc\n"
      ]
    },
    {
      "cell_type": "code",
      "execution_count": 17,
      "metadata": {
        "id": "J-CGNh9FLQ6S"
      },
      "outputs": [],
      "source": [
        "def train_baseline_ebm(X_train, y_train, X_val, y_val, params=None, init_score=None, sample_weight=None):\n",
        "    params = params or {}\n",
        "    model = ExplainableBoostingClassifier(**params)\n",
        "\n",
        "    model.fit(X_train, y_train, sample_weight=sample_weight, init_score=init_score)\n",
        "\n",
        "    preds_proba = model.predict_proba(X_val)[:, 1]\n",
        "    preds = (preds_proba >= 0.5).astype(int)\n",
        "\n",
        "    metrics = {\n",
        "        'roc_auc (test_score_mean)': roc_auc_score(y_val, preds_proba),\n",
        "        'f1': f1_score(y_val, preds),\n",
        "        'accuracy': accuracy_score(y_val, preds)\n",
        "    }\n",
        "\n",
        "    # ---- Print metrics in structured way ----\n",
        "    print(\"\\n=== Model Evaluation Results ===\")\n",
        "    for k, v in metrics.items():\n",
        "        print(f\"{k.upper():10}: {v:.4f}\")\n",
        "\n",
        "    # Confusion Matrix\n",
        "    print(\"\\nConfusion Matrix:\")\n",
        "    cm = confusion_matrix(y_val, preds)\n",
        "    disp = ConfusionMatrixDisplay(confusion_matrix=cm)\n",
        "    disp.plot(cmap=\"Blues\")\n",
        "    plt.title(\"Confusion Matrix\")\n",
        "    plt.show()\n",
        "\n",
        "    # ---- InterpretML Visualizations ----\n",
        "    ebm_global = model.explain_global()\n",
        "    show(ebm_global)   # Opens interactive dashboard (works in notebook)\n",
        "\n",
        "    return model, metrics, preds_proba"
      ]
    },
    {
      "cell_type": "code",
      "execution_count": 12,
      "metadata": {
        "id": "SM8996DeLZBf"
      },
      "outputs": [],
      "source": [
        "class TabularAutoencoder(nn.Module):\n",
        "    def __init__(self, input_dim, latent_dim=32):\n",
        "        super().__init__()\n",
        "        self.encoder = nn.Sequential(\n",
        "            nn.Linear(input_dim, max(64, latent_dim * 4)),\n",
        "            nn.ReLU(),\n",
        "            nn.Linear(max(64, latent_dim * 4), latent_dim),\n",
        "            nn.ReLU()\n",
        "        )\n",
        "        self.decoder = nn.Sequential(\n",
        "            nn.Linear(latent_dim, max(64, latent_dim * 4)),\n",
        "            nn.ReLU(),\n",
        "            nn.Linear(max(64, latent_dim * 4), input_dim)\n",
        "        )\n",
        "\n",
        "    def forward(self, x):\n",
        "        z = self.encoder(x)\n",
        "        recon = self.decoder(z)\n",
        "        return recon, z\n"
      ]
    },
    {
      "cell_type": "code",
      "execution_count": 33,
      "metadata": {
        "id": "X7_zYwU_LepC"
      },
      "outputs": [],
      "source": [
        "def pretrain_autoencoder_get_init_scores(X_unlabeled: np.ndarray, X_small_labeled: np.ndarray, y_small: np.ndarray,\n",
        "                                         device='cpu', epochs=50, batch_size=256, latent_dim=32):\n",
        "    \"\"\"\n",
        "    Train autoencoder on X_unlabeled (self-supervised), then train a small classifier on\n",
        "    the encoder output for the labeled subset to produce init_score probabilities.\n",
        "    Returns init_score for entire dataset (probabilities).\n",
        "    \"\"\"\n",
        "    device = torch.device(device)\n",
        "    X_unlabeled_t = torch.from_numpy(X_unlabeled.astype(np.float32))\n",
        "    ds = TensorDataset(X_unlabeled_t)\n",
        "    dl = DataLoader(ds, batch_size=batch_size, shuffle=True)\n",
        "\n",
        "    ae = TabularAutoencoder(input_dim=X_unlabeled.shape[1], latent_dim=latent_dim).to(device)\n",
        "    opt = torch.optim.Adam(ae.parameters(), lr=1e-3)\n",
        "    loss_fn = nn.MSELoss()\n",
        "\n",
        "    for ep in range(epochs):\n",
        "        ae.train()\n",
        "        epoch_loss = 0.0\n",
        "        for (batch,) in dl:\n",
        "            batch = batch.to(device)\n",
        "            recon, _ = ae(batch)\n",
        "            loss = loss_fn(recon, batch)\n",
        "            opt.zero_grad()\n",
        "            loss.backward()\n",
        "            opt.step()\n",
        "            epoch_loss += loss.item() * batch.size(0)\n",
        "    # build encoder outputs for labeled small set\n",
        "    ae.eval()\n",
        "    with torch.no_grad():\n",
        "        Z_small = ae.encoder(torch.from_numpy(X_small_labeled.astype(np.float32)).to(device)).cpu().numpy()\n",
        "        Z_full = ae.encoder(torch.from_numpy(X_unlabeled.astype(np.float32)).to(device)).cpu().numpy()\n",
        "\n",
        "    # train logistic regression on Z_small -> produce probabilities for full set as init_score\n",
        "    clf = LogisticRegression(max_iter=1000)\n",
        "    clf.fit(Z_small, y_small)\n",
        "    init_scores = clf.predict_proba(Z_full)[:, 1]\n",
        "    return init_scores, ae, clf"
      ]
    },
    {
      "cell_type": "code",
      "execution_count": 14,
      "metadata": {
        "id": "QbC07gOvLuod"
      },
      "outputs": [],
      "source": [
        "output_dir='out'\n",
        "dataset='adult'"
      ]
    },
    {
      "cell_type": "code",
      "execution_count": 24,
      "metadata": {},
      "outputs": [],
      "source": [
        "def get_adult_data():\n",
        "    os.makedirs(output_dir, exist_ok=True)\n",
        "    print(f'[INFO] Loading {dataset} dataset ...')\n",
        "    X_df, y, sensitive = DATASET_LOADERS[dataset]()\n",
        "    preproc = build_adult_preprocessor(X_df)\n",
        "    X_all = preproc.fit_transform(X_df)\n",
        "    # convert to numpy arrays for later use\n",
        "    X_all = np.asarray(X_all, dtype=float)\n",
        "    y = np.asarray(y, dtype=int)\n",
        "    print(\"[INFO] Loading completed\")\n",
        "\n",
        "    X_temp, X_test, y_temp, y_test, sens_temp, sens_test = train_test_split(\n",
        "    X_all, y, sensitive, test_size=0.2, stratify=y, random_state=SEED)\n",
        "    X_train, X_val, y_train, y_val, sens_train, sens_val = train_test_split(\n",
        "    X_temp, y_temp, sens_temp, test_size=0.25, stratify=y_temp, random_state=SEED)  # 0.25*0.8 = 0.2\n",
        "\n",
        "    return X_train, y_train, sens_train, X_val, y_val, sens_val, X_test, y_test, sens_test,X_all"
      ]
    },
    {
      "cell_type": "code",
      "execution_count": null,
      "metadata": {
        "colab": {
          "base_uri": "https://localhost:8080/",
          "height": 1000
        },
        "id": "rxG5RmzvMRy_",
        "outputId": "c97a470c-b3a0-4120-f4fb-b94193320fc8"
      },
      "outputs": [
        {
          "name": "stdout",
          "output_type": "stream",
          "text": [
            "[INFO] Training baseline EBM (default params)...\n",
            "[INFO] Loading adult dataset ...\n",
            "[INFO] Loading completed\n",
            "\n",
            "=== Model Evaluation Results ===\n",
            "ROC_AUC (TEST_SCORE_MEAN): 0.9220\n",
            "F1        : 0.7031\n",
            "ACCURACY  : 0.8664\n",
            "\n",
            "Confusion Matrix:\n"
          ]
        },
        {
          "data": {
            "image/png": "[encoded data removed]",
            "text/plain": [
              "<Figure size 640x480 with 2 Axes>"
            ]
          },
          "metadata": {},
          "output_type": "display_data"
        },
        {
          "data": {
            "text/html": [
              "<!-- http://127.0.0.1:7001/1614913987040/ -->\n",
              "<iframe src=\"http://127.0.0.1:7001/1614913987040/\" width=100% height=800 frameBorder=\"0\"></iframe>"
            ]
          },
          "metadata": {},
          "output_type": "display_data"
        },
        {
          "name": "stdout",
          "output_type": "stream",
          "text": [
            "[BASELINE] {'roc_auc (test_score_mean)': 0.9220130254771812, 'f1': 0.7030716723549488, 'accuracy': 0.8664004914004914}\n"
          ]
        },
        {
          "data": {
            "text/plain": [
              "['out\\\\ebm_baseline.pkl']"
            ]
          },
          "execution_count": 18,
          "metadata": {},
          "output_type": "execute_result"
        }
      ],
      "source": [
        "# Baseline EBM\n",
        "print('[INFO] Training baseline EBM (default params)...')\n",
        "ebm_params = {}  # defaults\n",
        "X_train, y_train, sens_train, X_val, y_val, sens_val, X_test, y_test, sens_test, X_all = get_adult_data()\n",
        "ebm, base_metrics, base_preds_proba = train_baseline_ebm(X_train, y_train, X_val, y_val, params=ebm_params)\n",
        "print('[BASELINE]', base_metrics)\n",
        "\n",
        "# Save baseline model\n",
        "joblib.dump(ebm, os.path.join(output_dir, 'ebm_baseline.pkl'))\n"
      ]
    },
    {
      "cell_type": "code",
      "execution_count": 19,
      "metadata": {
        "id": "5TXCx6qBWhz7"
      },
      "outputs": [],
      "source": [
        "def run_hpo_ebm(X_train, y_train, X_val, y_val, sensitive_val, n_trials=40, timeout=None, output_dir='hpo'):\n",
        "    os.makedirs(output_dir, exist_ok=True)\n",
        "\n",
        "    def objective(trial):\n",
        "        # sample hyperparams\n",
        "        params = {\n",
        "            'learning_rate': trial.suggest_loguniform('learning_rate', 1e-4, 1e-1),\n",
        "            'max_bins': trial.suggest_int('max_bins', 64, 512),\n",
        "            'max_leaves': trial.suggest_int('max_leaves', 2, 64),\n",
        "            'max_rounds': trial.suggest_int('max_rounds', 50, 2000),\n",
        "            'interactions': trial.suggest_int('interactions', 0, 10),\n",
        "            'outer_bags': trial.suggest_int('outer_bags', 4, 32),\n",
        "            'inner_bags': trial.suggest_int('inner_bags', 0, 8),\n",
        "            # greedy ratio can be tuned too\n",
        "            'greedy_ratio': trial.suggest_float('greedy_ratio', 0.0, 20.0),\n",
        "        }\n",
        "        # a tradeoff weight alpha between accuracy and fairness to optimize externally\n",
        "        fairness_weight = trial.suggest_float('fairness_weight', 0.0, 5.0)\n",
        "\n",
        "        model = ExplainableBoostingClassifier(**params)\n",
        "        model.fit(X_train, y_train)\n",
        "        preds_proba = model.predict_proba(X_val)[:, 1]\n",
        "        roc = roc_auc_score(y_val, preds_proba)\n",
        "        dp = demographic_parity_difference(y_val, preds_proba, sensitive_val, threshold=0.5)\n",
        "        # composite: minimize (1 - roc) + fairness_weight * dp\n",
        "        objective_value = (1.0 - roc) + fairness_weight * dp\n",
        "\n",
        "        # store additional info as trial user attributes\n",
        "        trial.set_user_attr('roc_auc', roc)\n",
        "        trial.set_user_attr('dp', dp)\n",
        "        trial.set_user_attr('params', params)\n",
        "        return objective_value\n",
        "\n",
        "    study = optuna.create_study(direction='minimize', sampler=optuna.samplers.TPESampler(seed=SEED))\n",
        "    study.optimize(objective, n_trials=n_trials, timeout=timeout)\n",
        "    # persist study\n",
        "    joblib.dump(study, os.path.join(output_dir, 'optuna_study.pkl'))\n",
        "    return study\n"
      ]
    },
    {
      "cell_type": "code",
      "execution_count": 20,
      "metadata": {
        "colab": {
          "base_uri": "https://localhost:8080/"
        },
        "id": "ZFHhcqzxWpQm",
        "outputId": "2f9535bf-484c-41ea-9829-075dbaf12e66"
      },
      "outputs": [
        {
          "name": "stderr",
          "output_type": "stream",
          "text": [
            "[I 2025-08-27 12:22:32,590] A new study created in memory with name: no-name-0df2d19b-7e1c-4c6d-ae98-2f99df61f04e\n"
          ]
        },
        {
          "name": "stdout",
          "output_type": "stream",
          "text": [
            "[INFO] Running HPO (Optuna)...\n"
          ]
        },
        {
          "name": "stderr",
          "output_type": "stream",
          "text": [
            "C:\\Users\\Isara Liyanage\\AppData\\Local\\Temp\\ipykernel_18500\\3842302592.py:7: FutureWarning:\n",
            "\n",
            "suggest_loguniform has been deprecated in v3.0.0. This feature will be removed in v6.0.0. See https://github.com/optuna/optuna/releases/tag/v3.0.0. Use suggest_float(..., log=True) instead.\n",
            "\n",
            "[I 2025-08-27 12:23:27,891] Trial 0 finished with value: 0.6161628600201748 and parameters: {'learning_rate': 0.0013292918943162175, 'max_bins': 490, 'max_leaves': 48, 'max_rounds': 1217, 'interactions': 1, 'outer_bags': 8, 'inner_bags': 0, 'greedy_ratio': 17.323522915498703, 'fairness_weight': 3.005575058716044}. Best is trial 0 with value: 0.6161628600201748.\n",
            "C:\\Users\\Isara Liyanage\\AppData\\Local\\Temp\\ipykernel_18500\\3842302592.py:7: FutureWarning:\n",
            "\n",
            "suggest_loguniform has been deprecated in v3.0.0. This feature will be removed in v6.0.0. See https://github.com/optuna/optuna/releases/tag/v3.0.0. Use suggest_float(..., log=True) instead.\n",
            "\n",
            "[I 2025-08-27 12:23:51,946] Trial 1 finished with value: 0.5326290578700494 and parameters: {'learning_rate': 0.013311216080736894, 'max_bins': 73, 'max_leaves': 63, 'max_rounds': 1674, 'interactions': 2, 'outer_bags': 9, 'inner_bags': 1, 'greedy_ratio': 6.0848448591907545, 'fairness_weight': 2.6237821581611893}. Best is trial 1 with value: 0.5326290578700494.\n",
            "C:\\Users\\Isara Liyanage\\AppData\\Local\\Temp\\ipykernel_18500\\3842302592.py:7: FutureWarning:\n",
            "\n",
            "suggest_loguniform has been deprecated in v3.0.0. This feature will be removed in v6.0.0. See https://github.com/optuna/optuna/releases/tag/v3.0.0. Use suggest_float(..., log=True) instead.\n",
            "\n",
            "[I 2025-08-27 12:25:42,007] Trial 2 finished with value: 0.2488402383718899 and parameters: {'learning_rate': 0.0019762189340280074, 'max_bins': 194, 'max_leaves': 40, 'max_rounds': 322, 'interactions': 3, 'outer_bags': 14, 'inner_bags': 4, 'greedy_ratio': 15.703519227860273, 'fairness_weight': 0.9983689107917987}. Best is trial 2 with value: 0.2488402383718899.\n",
            "C:\\Users\\Isara Liyanage\\AppData\\Local\\Temp\\ipykernel_18500\\3842302592.py:7: FutureWarning:\n",
            "\n",
            "suggest_loguniform has been deprecated in v3.0.0. This feature will be removed in v6.0.0. See https://github.com/optuna/optuna/releases/tag/v3.0.0. Use suggest_float(..., log=True) instead.\n",
            "\n",
            "[I 2025-08-27 12:26:33,718] Trial 3 finished with value: 0.7852463717322066 and parameters: {'learning_rate': 0.003489018845491387, 'max_bins': 329, 'max_leaves': 4, 'max_rounds': 1235, 'interactions': 1, 'outer_bags': 5, 'inner_bags': 8, 'greedy_ratio': 19.312640661491187, 'fairness_weight': 4.041986740582305}. Best is trial 2 with value: 0.2488402383718899.\n",
            "C:\\Users\\Isara Liyanage\\AppData\\Local\\Temp\\ipykernel_18500\\3842302592.py:7: FutureWarning:\n",
            "\n",
            "suggest_loguniform has been deprecated in v3.0.0. This feature will be removed in v6.0.0. See https://github.com/optuna/optuna/releases/tag/v3.0.0. Use suggest_float(..., log=True) instead.\n",
            "\n",
            "[I 2025-08-27 12:29:24,950] Trial 4 finished with value: 0.3069210987258705 and parameters: {'learning_rate': 0.0008200518402245837, 'max_bins': 107, 'max_leaves': 45, 'max_rounds': 908, 'interactions': 1, 'outer_bags': 18, 'inner_bags': 0, 'greedy_ratio': 18.186408041575643, 'fairness_weight': 1.2938999080000846}. Best is trial 2 with value: 0.2488402383718899.\n",
            "C:\\Users\\Isara Liyanage\\AppData\\Local\\Temp\\ipykernel_18500\\3842302592.py:7: FutureWarning:\n",
            "\n",
            "suggest_loguniform has been deprecated in v3.0.0. This feature will be removed in v6.0.0. See https://github.com/optuna/optuna/releases/tag/v3.0.0. Use suggest_float(..., log=True) instead.\n",
            "\n",
            "[I 2025-08-27 12:33:05,230] Trial 5 finished with value: 0.7825037541487585 and parameters: {'learning_rate': 0.009717775305059635, 'max_bins': 203, 'max_leaves': 34, 'max_rounds': 1116, 'interactions': 2, 'outer_bags': 32, 'inner_bags': 6, 'greedy_ratio': 18.789978831283783, 'fairness_weight': 4.474136752138244}. Best is trial 2 with value: 0.2488402383718899.\n",
            "C:\\Users\\Isara Liyanage\\AppData\\Local\\Temp\\ipykernel_18500\\3842302592.py:7: FutureWarning:\n",
            "\n",
            "suggest_loguniform has been deprecated in v3.0.0. This feature will be removed in v6.0.0. See https://github.com/optuna/optuna/releases/tag/v3.0.0. Use suggest_float(..., log=True) instead.\n",
            "\n",
            "[I 2025-08-27 12:34:10,435] Trial 6 finished with value: 0.7956984617790427 and parameters: {'learning_rate': 0.00621870472776908, 'max_bins': 477, 'max_leaves': 7, 'max_rounds': 432, 'interactions': 0, 'outer_bags': 13, 'inner_bags': 3, 'greedy_ratio': 5.426980635477918, 'fairness_weight': 4.143687545759647}. Best is trial 2 with value: 0.2488402383718899.\n",
            "C:\\Users\\Isara Liyanage\\AppData\\Local\\Temp\\ipykernel_18500\\3842302592.py:7: FutureWarning:\n",
            "\n",
            "suggest_loguniform has been deprecated in v3.0.0. This feature will be removed in v6.0.0. See https://github.com/optuna/optuna/releases/tag/v3.0.0. Use suggest_float(..., log=True) instead.\n",
            "\n",
            "[I 2025-08-27 12:35:38,328] Trial 7 finished with value: 0.2504318010255775 and parameters: {'learning_rate': 0.0011756010900231862, 'max_bins': 190, 'max_leaves': 36, 'max_rounds': 324, 'interactions': 8, 'outer_bags': 6, 'inner_bags': 8, 'greedy_ratio': 15.444895385933147, 'fairness_weight': 0.993578407670862}. Best is trial 2 with value: 0.2488402383718899.\n",
            "C:\\Users\\Isara Liyanage\\AppData\\Local\\Temp\\ipykernel_18500\\3842302592.py:7: FutureWarning:\n",
            "\n",
            "suggest_loguniform has been deprecated in v3.0.0. This feature will be removed in v6.0.0. See https://github.com/optuna/optuna/releases/tag/v3.0.0. Use suggest_float(..., log=True) instead.\n",
            "\n",
            "[I 2025-08-27 12:39:11,493] Trial 8 finished with value: 0.8033279217832574 and parameters: {'learning_rate': 0.00010388823104027947, 'max_bins': 430, 'max_leaves': 46, 'max_rounds': 1472, 'interactions': 8, 'outer_bags': 6, 'inner_bags': 3, 'greedy_ratio': 2.3173811905025943, 'fairness_weight': 4.315517129377968}. Best is trial 2 with value: 0.2488402383718899.\n",
            "C:\\Users\\Isara Liyanage\\AppData\\Local\\Temp\\ipykernel_18500\\3842302592.py:7: FutureWarning:\n",
            "\n",
            "suggest_loguniform has been deprecated in v3.0.0. This feature will be removed in v6.0.0. See https://github.com/optuna/optuna/releases/tag/v3.0.0. Use suggest_float(..., log=True) instead.\n",
            "\n",
            "[I 2025-08-27 12:42:21,732] Trial 9 finished with value: 0.4916695982703874 and parameters: {'learning_rate': 0.0074112997810832455, 'max_bins': 212, 'max_leaves': 6, 'max_rounds': 656, 'interactions': 3, 'outer_bags': 25, 'inner_bags': 5, 'greedy_ratio': 17.74425485152653, 'fairness_weight': 2.3610746258097466}. Best is trial 2 with value: 0.2488402383718899.\n",
            "C:\\Users\\Isara Liyanage\\AppData\\Local\\Temp\\ipykernel_18500\\3842302592.py:7: FutureWarning:\n",
            "\n",
            "suggest_loguniform has been deprecated in v3.0.0. This feature will be removed in v6.0.0. See https://github.com/optuna/optuna/releases/tag/v3.0.0. Use suggest_float(..., log=True) instead.\n",
            "\n",
            "[I 2025-08-27 12:43:03,415] Trial 10 finished with value: 0.11504401562756311 and parameters: {'learning_rate': 0.06845570267272903, 'max_bins': 317, 'max_leaves': 21, 'max_rounds': 85, 'interactions': 5, 'outer_bags': 19, 'inner_bags': 6, 'greedy_ratio': 12.481670543447306, 'fairness_weight': 0.19953767859742422}. Best is trial 10 with value: 0.11504401562756311.\n",
            "C:\\Users\\Isara Liyanage\\AppData\\Local\\Temp\\ipykernel_18500\\3842302592.py:7: FutureWarning:\n",
            "\n",
            "suggest_loguniform has been deprecated in v3.0.0. This feature will be removed in v6.0.0. See https://github.com/optuna/optuna/releases/tag/v3.0.0. Use suggest_float(..., log=True) instead.\n",
            "\n",
            "[I 2025-08-27 12:43:50,353] Trial 11 finished with value: 0.08303333254115115 and parameters: {'learning_rate': 0.09713574429498972, 'max_bins': 338, 'max_leaves': 19, 'max_rounds': 97, 'interactions': 5, 'outer_bags': 17, 'inner_bags': 6, 'greedy_ratio': 12.324234789258076, 'fairness_weight': 0.02337640770715016}. Best is trial 11 with value: 0.08303333254115115.\n",
            "C:\\Users\\Isara Liyanage\\AppData\\Local\\Temp\\ipykernel_18500\\3842302592.py:7: FutureWarning:\n",
            "\n",
            "suggest_loguniform has been deprecated in v3.0.0. This feature will be removed in v6.0.0. See https://github.com/optuna/optuna/releases/tag/v3.0.0. Use suggest_float(..., log=True) instead.\n",
            "\n",
            "[I 2025-08-27 12:44:26,111] Trial 12 finished with value: 0.08129647805328083 and parameters: {'learning_rate': 0.07962780771857154, 'max_bins': 351, 'max_leaves': 21, 'max_rounds': 74, 'interactions': 6, 'outer_bags': 22, 'inner_bags': 6, 'greedy_ratio': 10.888475187122241, 'fairness_weight': 0.015536082439507685}. Best is trial 12 with value: 0.08129647805328083.\n",
            "C:\\Users\\Isara Liyanage\\AppData\\Local\\Temp\\ipykernel_18500\\3842302592.py:7: FutureWarning:\n",
            "\n",
            "suggest_loguniform has been deprecated in v3.0.0. This feature will be removed in v6.0.0. See https://github.com/optuna/optuna/releases/tag/v3.0.0. Use suggest_float(..., log=True) instead.\n",
            "\n",
            "[I 2025-08-27 12:44:56,325] Trial 13 finished with value: 0.09510278603726958 and parameters: {'learning_rate': 0.09728583151931024, 'max_bins': 356, 'max_leaves': 21, 'max_rounds': 53, 'interactions': 6, 'outer_bags': 24, 'inner_bags': 6, 'greedy_ratio': 10.547002630664757, 'fairness_weight': 0.09146016839237003}. Best is trial 12 with value: 0.08129647805328083.\n",
            "C:\\Users\\Isara Liyanage\\AppData\\Local\\Temp\\ipykernel_18500\\3842302592.py:7: FutureWarning:\n",
            "\n",
            "suggest_loguniform has been deprecated in v3.0.0. This feature will be removed in v6.0.0. See https://github.com/optuna/optuna/releases/tag/v3.0.0. Use suggest_float(..., log=True) instead.\n",
            "\n",
            "[I 2025-08-27 12:48:19,099] Trial 14 finished with value: 0.3806413053175122 and parameters: {'learning_rate': 0.02888000145468826, 'max_bins': 405, 'max_leaves': 23, 'max_rounds': 1993, 'interactions': 10, 'outer_bags': 23, 'inner_bags': 7, 'greedy_ratio': 12.248466947723733, 'fairness_weight': 1.7077765831491594}. Best is trial 12 with value: 0.08129647805328083.\n",
            "C:\\Users\\Isara Liyanage\\AppData\\Local\\Temp\\ipykernel_18500\\3842302592.py:7: FutureWarning:\n",
            "\n",
            "suggest_loguniform has been deprecated in v3.0.0. This feature will be removed in v6.0.0. See https://github.com/optuna/optuna/releases/tag/v3.0.0. Use suggest_float(..., log=True) instead.\n",
            "\n",
            "[I 2025-08-27 12:50:47,264] Trial 15 finished with value: 0.16939194484581693 and parameters: {'learning_rate': 0.03495964442979721, 'max_bins': 255, 'max_leaves': 15, 'max_rounds': 779, 'interactions': 5, 'outer_bags': 29, 'inner_bags': 4, 'greedy_ratio': 6.944431781426212, 'fairness_weight': 0.5221658930359899}. Best is trial 12 with value: 0.08129647805328083.\n",
            "C:\\Users\\Isara Liyanage\\AppData\\Local\\Temp\\ipykernel_18500\\3842302592.py:7: FutureWarning:\n",
            "\n",
            "suggest_loguniform has been deprecated in v3.0.0. This feature will be removed in v6.0.0. See https://github.com/optuna/optuna/releases/tag/v3.0.0. Use suggest_float(..., log=True) instead.\n",
            "\n",
            "[I 2025-08-27 12:53:12,968] Trial 16 finished with value: 0.40604704588138285 and parameters: {'learning_rate': 0.03034423741943049, 'max_bins': 381, 'max_leaves': 27, 'max_rounds': 593, 'interactions': 7, 'outer_bags': 19, 'inner_bags': 7, 'greedy_ratio': 8.869240435249411, 'fairness_weight': 1.7919514239527095}. Best is trial 12 with value: 0.08129647805328083.\n",
            "C:\\Users\\Isara Liyanage\\AppData\\Local\\Temp\\ipykernel_18500\\3842302592.py:7: FutureWarning:\n",
            "\n",
            "suggest_loguniform has been deprecated in v3.0.0. This feature will be removed in v6.0.0. See https://github.com/optuna/optuna/releases/tag/v3.0.0. Use suggest_float(..., log=True) instead.\n",
            "\n",
            "[I 2025-08-27 12:54:35,192] Trial 17 finished with value: 0.18008175904248125 and parameters: {'learning_rate': 0.00043636509797275336, 'max_bins': 260, 'max_leaves': 14, 'max_rounds': 262, 'interactions': 4, 'outer_bags': 15, 'inner_bags': 5, 'greedy_ratio': 13.896749875424948, 'fairness_weight': 0.6122133392523892}. Best is trial 12 with value: 0.08129647805328083.\n",
            "C:\\Users\\Isara Liyanage\\AppData\\Local\\Temp\\ipykernel_18500\\3842302592.py:7: FutureWarning:\n",
            "\n",
            "suggest_loguniform has been deprecated in v3.0.0. This feature will be removed in v6.0.0. See https://github.com/optuna/optuna/releases/tag/v3.0.0. Use suggest_float(..., log=True) instead.\n",
            "\n",
            "[I 2025-08-27 12:54:57,868] Trial 18 finished with value: 0.0888169255135699 and parameters: {'learning_rate': 0.05685544023156708, 'max_bins': 438, 'max_leaves': 28, 'max_rounds': 50, 'interactions': 6, 'outer_bags': 21, 'inner_bags': 5, 'greedy_ratio': 9.360498595028268, 'fairness_weight': 0.06632733810148525}. Best is trial 12 with value: 0.08129647805328083.\n",
            "C:\\Users\\Isara Liyanage\\AppData\\Local\\Temp\\ipykernel_18500\\3842302592.py:7: FutureWarning:\n",
            "\n",
            "suggest_loguniform has been deprecated in v3.0.0. This feature will be removed in v6.0.0. See https://github.com/optuna/optuna/releases/tag/v3.0.0. Use suggest_float(..., log=True) instead.\n",
            "\n",
            "[I 2025-08-27 12:56:15,840] Trial 19 finished with value: 0.6117599641507826 and parameters: {'learning_rate': 0.01691001693975461, 'max_bins': 302, 'max_leaves': 13, 'max_rounds': 540, 'interactions': 10, 'outer_bags': 28, 'inner_bags': 2, 'greedy_ratio': 3.3916305877550377, 'fairness_weight': 3.1299545467295014}. Best is trial 12 with value: 0.08129647805328083.\n",
            "C:\\Users\\Isara Liyanage\\AppData\\Local\\Temp\\ipykernel_18500\\3842302592.py:7: FutureWarning:\n",
            "\n",
            "suggest_loguniform has been deprecated in v3.0.0. This feature will be removed in v6.0.0. See https://github.com/optuna/optuna/releases/tag/v3.0.0. Use suggest_float(..., log=True) instead.\n",
            "\n",
            "[I 2025-08-27 12:59:35,426] Trial 20 finished with value: 0.9918966672171244 and parameters: {'learning_rate': 0.04714261061153763, 'max_bins': 355, 'max_leaves': 56, 'max_rounds': 789, 'interactions': 8, 'outer_bags': 12, 'inner_bags': 7, 'greedy_ratio': 0.23241923255106478, 'fairness_weight': 4.969213925248543}. Best is trial 12 with value: 0.08129647805328083.\n",
            "C:\\Users\\Isara Liyanage\\AppData\\Local\\Temp\\ipykernel_18500\\3842302592.py:7: FutureWarning:\n",
            "\n",
            "suggest_loguniform has been deprecated in v3.0.0. This feature will be removed in v6.0.0. See https://github.com/optuna/optuna/releases/tag/v3.0.0. Use suggest_float(..., log=True) instead.\n",
            "\n",
            "[I 2025-08-27 13:01:19,248] Trial 21 finished with value: 0.0859690751658375 and parameters: {'learning_rate': 0.0921223262548395, 'max_bins': 415, 'max_leaves': 28, 'max_rounds': 167, 'interactions': 6, 'outer_bags': 21, 'inner_bags': 5, 'greedy_ratio': 9.255021604538653, 'fairness_weight': 0.04396160748333051}. Best is trial 12 with value: 0.08129647805328083.\n",
            "C:\\Users\\Isara Liyanage\\AppData\\Local\\Temp\\ipykernel_18500\\3842302592.py:7: FutureWarning:\n",
            "\n",
            "suggest_loguniform has been deprecated in v3.0.0. This feature will be removed in v6.0.0. See https://github.com/optuna/optuna/releases/tag/v3.0.0. Use suggest_float(..., log=True) instead.\n",
            "\n",
            "[I 2025-08-27 13:02:38,232] Trial 22 finished with value: 0.19051552037023128 and parameters: {'learning_rate': 0.0909445138302924, 'max_bins': 433, 'max_leaves': 29, 'max_rounds': 232, 'interactions': 6, 'outer_bags': 16, 'inner_bags': 4, 'greedy_ratio': 11.050782289337167, 'fairness_weight': 0.6199672567575165}. Best is trial 12 with value: 0.08129647805328083.\n",
            "C:\\Users\\Isara Liyanage\\AppData\\Local\\Temp\\ipykernel_18500\\3842302592.py:7: FutureWarning:\n",
            "\n",
            "suggest_loguniform has been deprecated in v3.0.0. This feature will be removed in v6.0.0. See https://github.com/optuna/optuna/releases/tag/v3.0.0. Use suggest_float(..., log=True) instead.\n",
            "\n",
            "[I 2025-08-27 13:04:26,735] Trial 23 finished with value: 0.31827774936582215 and parameters: {'learning_rate': 0.02480188863047838, 'max_bins': 377, 'max_leaves': 18, 'max_rounds': 447, 'interactions': 4, 'outer_bags': 21, 'inner_bags': 6, 'greedy_ratio': 9.223535115390245, 'fairness_weight': 1.334470999305845}. Best is trial 12 with value: 0.08129647805328083.\n",
            "C:\\Users\\Isara Liyanage\\AppData\\Local\\Temp\\ipykernel_18500\\3842302592.py:7: FutureWarning:\n",
            "\n",
            "suggest_loguniform has been deprecated in v3.0.0. This feature will be removed in v6.0.0. See https://github.com/optuna/optuna/releases/tag/v3.0.0. Use suggest_float(..., log=True) instead.\n",
            "\n",
            "[I 2025-08-27 13:06:16,478] Trial 24 finished with value: 0.20491109660026077 and parameters: {'learning_rate': 0.05932881251701709, 'max_bins': 512, 'max_leaves': 10, 'max_rounds': 172, 'interactions': 7, 'outer_bags': 22, 'inner_bags': 5, 'greedy_ratio': 7.796103559009884, 'fairness_weight': 0.7076690629855378}. Best is trial 12 with value: 0.08129647805328083.\n",
            "C:\\Users\\Isara Liyanage\\AppData\\Local\\Temp\\ipykernel_18500\\3842302592.py:7: FutureWarning:\n",
            "\n",
            "suggest_loguniform has been deprecated in v3.0.0. This feature will be removed in v6.0.0. See https://github.com/optuna/optuna/releases/tag/v3.0.0. Use suggest_float(..., log=True) instead.\n",
            "\n",
            "[I 2025-08-27 13:08:48,583] Trial 25 finished with value: 0.19246684527452995 and parameters: {'learning_rate': 0.09974688876141938, 'max_bins': 268, 'max_leaves': 25, 'max_rounds': 425, 'interactions': 5, 'outer_bags': 25, 'inner_bags': 7, 'greedy_ratio': 13.162062885926089, 'fairness_weight': 0.004639715669927543}. Best is trial 12 with value: 0.08129647805328083.\n",
            "C:\\Users\\Isara Liyanage\\AppData\\Local\\Temp\\ipykernel_18500\\3842302592.py:7: FutureWarning:\n",
            "\n",
            "suggest_loguniform has been deprecated in v3.0.0. This feature will be removed in v6.0.0. See https://github.com/optuna/optuna/releases/tag/v3.0.0. Use suggest_float(..., log=True) instead.\n",
            "\n",
            "[I 2025-08-27 13:10:32,778] Trial 26 finished with value: 0.13850085049103295 and parameters: {'learning_rate': 0.01813945429648189, 'max_bins': 342, 'max_leaves': 30, 'max_rounds': 218, 'interactions': 7, 'outer_bags': 17, 'inner_bags': 6, 'greedy_ratio': 14.454089291518432, 'fairness_weight': 0.3466381378190939}. Best is trial 12 with value: 0.08129647805328083.\n",
            "C:\\Users\\Isara Liyanage\\AppData\\Local\\Temp\\ipykernel_18500\\3842302592.py:7: FutureWarning:\n",
            "\n",
            "suggest_loguniform has been deprecated in v3.0.0. This feature will be removed in v6.0.0. See https://github.com/optuna/optuna/releases/tag/v3.0.0. Use suggest_float(..., log=True) instead.\n",
            "\n",
            "[I 2025-08-27 13:12:28,990] Trial 27 finished with value: 0.2585578985124771 and parameters: {'learning_rate': 0.04694719655826744, 'max_bins': 384, 'max_leaves': 40, 'max_rounds': 371, 'interactions': 9, 'outer_bags': 27, 'inner_bags': 3, 'greedy_ratio': 11.383105437860113, 'fairness_weight': 0.9924607094957809}. Best is trial 12 with value: 0.08129647805328083.\n",
            "C:\\Users\\Isara Liyanage\\AppData\\Local\\Temp\\ipykernel_18500\\3842302592.py:7: FutureWarning:\n",
            "\n",
            "suggest_loguniform has been deprecated in v3.0.0. This feature will be removed in v6.0.0. See https://github.com/optuna/optuna/releases/tag/v3.0.0. Use suggest_float(..., log=True) instead.\n",
            "\n",
            "[I 2025-08-27 13:13:03,362] Trial 28 finished with value: 0.2764969389077341 and parameters: {'learning_rate': 0.0002453162705983281, 'max_bins': 457, 'max_leaves': 19, 'max_rounds': 182, 'interactions': 4, 'outer_bags': 11, 'inner_bags': 4, 'greedy_ratio': 8.004955724585505, 'fairness_weight': 1.863090937208898}. Best is trial 12 with value: 0.08129647805328083.\n",
            "C:\\Users\\Isara Liyanage\\AppData\\Local\\Temp\\ipykernel_18500\\3842302592.py:7: FutureWarning:\n",
            "\n",
            "suggest_loguniform has been deprecated in v3.0.0. This feature will be removed in v6.0.0. See https://github.com/optuna/optuna/releases/tag/v3.0.0. Use suggest_float(..., log=True) instead.\n",
            "\n",
            "[I 2025-08-27 13:15:05,160] Trial 29 finished with value: 0.6336641178314116 and parameters: {'learning_rate': 0.004348398798876724, 'max_bins': 410, 'max_leaves': 32, 'max_rounds': 643, 'interactions': 6, 'outer_bags': 20, 'inner_bags': 5, 'greedy_ratio': 4.588855860141346, 'fairness_weight': 3.2574290566033137}. Best is trial 12 with value: 0.08129647805328083.\n"
          ]
        },
        {
          "name": "stdout",
          "output_type": "stream",
          "text": [
            "[HPO] Best trial: {'learning_rate': 0.07962780771857154, 'max_bins': 351, 'max_leaves': 21, 'max_rounds': 74, 'interactions': 6, 'outer_bags': 22, 'inner_bags': 6, 'greedy_ratio': 10.888475187122241, 'fairness_weight': 0.015536082439507685}\n",
            "\n",
            "=== Model Evaluation Results ===\n",
            "ROC_AUC (TEST_SCORE_MEAN): 0.9215\n",
            "F1        : 0.6994\n",
            "ACCURACY  : 0.8664\n",
            "\n",
            "Confusion Matrix:\n"
          ]
        },
        {
          "data": {
            "image/png": "[encoded data removed]",
            "text/plain": [
              "<Figure size 640x480 with 2 Axes>"
            ]
          },
          "metadata": {},
          "output_type": "display_data"
        },
        {
          "data": {
            "text/html": [
              "<!-- http://127.0.0.1:7001/1614926897632/ -->\n",
              "<iframe src=\"http://127.0.0.1:7001/1614926897632/\" width=100% height=800 frameBorder=\"0\"></iframe>"
            ]
          },
          "metadata": {},
          "output_type": "display_data"
        },
        {
          "name": "stdout",
          "output_type": "stream",
          "text": [
            "[BEST_ON_VAL] {'roc_auc (test_score_mean)': 0.9215375470576582, 'f1': 0.6993780234968902, 'accuracy': 0.8664004914004914}\n"
          ]
        },
        {
          "data": {
            "text/plain": [
              "['out\\\\ebm_best_val.pkl']"
            ]
          },
          "execution_count": 20,
          "metadata": {},
          "output_type": "execute_result"
        }
      ],
      "source": [
        "print('[INFO] Running HPO (Optuna)...')\n",
        "study = run_hpo_ebm(X_train, y_train, X_val, y_val, sens_val, n_trials=30, output_dir=output_dir)\n",
        "print('[HPO] Best trial:', study.best_trial.params)\n",
        "# Train model with best params and evaluate on validation and test\n",
        "best_params = study.best_trial.user_attrs.get('params', {})\n",
        "ebm_best, best_metrics, best_preds = train_baseline_ebm(X_train, y_train, X_val, y_val, params=best_params)\n",
        "print('[BEST_ON_VAL]', best_metrics)\n",
        "joblib.dump(ebm_best, os.path.join(output_dir, 'ebm_best_val.pkl'))"
      ]
    },
    {
      "cell_type": "code",
      "execution_count": 21,
      "metadata": {},
      "outputs": [],
      "source": [
        "def run_hpo_ebm_without_dp(X_train, y_train, X_val, y_val, sensitive_val, n_trials=40, timeout=None, output_dir='hpo'):\n",
        "    os.makedirs(output_dir, exist_ok=True)\n",
        "\n",
        "    def objective(trial):\n",
        "        # sample hyperparams\n",
        "        params = {\n",
        "            'learning_rate': trial.suggest_loguniform('learning_rate', 1e-4, 1e-1),\n",
        "            'max_bins': trial.suggest_int('max_bins', 64, 512),\n",
        "            'max_leaves': trial.suggest_int('max_leaves', 2, 64),\n",
        "            'max_rounds': trial.suggest_int('max_rounds', 50, 2000),\n",
        "            'interactions': trial.suggest_int('interactions', 0, 10),\n",
        "            'outer_bags': trial.suggest_int('outer_bags', 4, 32),\n",
        "            'inner_bags': trial.suggest_int('inner_bags', 0, 8),\n",
        "            # greedy ratio can be tuned too\n",
        "            'greedy_ratio': trial.suggest_float('greedy_ratio', 0.0, 20.0),\n",
        "        }\n",
        "      \n",
        "\n",
        "        model = ExplainableBoostingClassifier(**params)\n",
        "        model.fit(X_train, y_train)\n",
        "        preds_proba = model.predict_proba(X_val)[:, 1]\n",
        "        roc = roc_auc_score(y_val, preds_proba)\n",
        "      \n",
        "        objective_value = (1.0 - roc) \n",
        "\n",
        "        # store additional info as trial user attributes\n",
        "        trial.set_user_attr('roc_auc', roc)\n",
        "       \n",
        "        trial.set_user_attr('params', params)\n",
        "        return objective_value\n",
        "\n",
        "    study = optuna.create_study(direction='minimize', sampler=optuna.samplers.TPESampler(seed=SEED))\n",
        "    study.optimize(objective, n_trials=n_trials, timeout=timeout)\n",
        "    # persist study\n",
        "    joblib.dump(study, os.path.join(output_dir, 'optuna_study_without_dp.pkl'))\n",
        "    return study\n"
      ]
    },
    {
      "cell_type": "code",
      "execution_count": 22,
      "metadata": {},
      "outputs": [
        {
          "name": "stderr",
          "output_type": "stream",
          "text": [
            "[I 2025-08-27 18:23:10,522] A new study created in memory with name: no-name-a52c600d-4f6d-4c94-be72-97a6d2920971\n"
          ]
        },
        {
          "name": "stdout",
          "output_type": "stream",
          "text": [
            "[INFO] Running HPO (Optuna)...\n"
          ]
        },
        {
          "name": "stderr",
          "output_type": "stream",
          "text": [
            "C:\\Users\\Isara Liyanage\\AppData\\Local\\Temp\\ipykernel_18500\\1894728935.py:7: FutureWarning:\n",
            "\n",
            "suggest_loguniform has been deprecated in v3.0.0. This feature will be removed in v6.0.0. See https://github.com/optuna/optuna/releases/tag/v3.0.0. Use suggest_float(..., log=True) instead.\n",
            "\n",
            "[I 2025-08-27 18:23:57,075] Trial 0 finished with value: 0.08013468964648962 and parameters: {'learning_rate': 0.0013292918943162175, 'max_bins': 490, 'max_leaves': 48, 'max_rounds': 1217, 'interactions': 1, 'outer_bags': 8, 'inner_bags': 0, 'greedy_ratio': 17.323522915498703}. Best is trial 0 with value: 0.08013468964648962.\n",
            "C:\\Users\\Isara Liyanage\\AppData\\Local\\Temp\\ipykernel_18500\\1894728935.py:7: FutureWarning:\n",
            "\n",
            "suggest_loguniform has been deprecated in v3.0.0. This feature will be removed in v6.0.0. See https://github.com/optuna/optuna/releases/tag/v3.0.0. Use suggest_float(..., log=True) instead.\n",
            "\n",
            "[I 2025-08-27 18:24:44,756] Trial 1 finished with value: 0.0751687393707483 and parameters: {'learning_rate': 0.006358358856676255, 'max_bins': 381, 'max_leaves': 3, 'max_rounds': 1942, 'interactions': 9, 'outer_bags': 10, 'inner_bags': 1, 'greedy_ratio': 3.6680901970686763}. Best is trial 1 with value: 0.0751687393707483.\n",
            "C:\\Users\\Isara Liyanage\\AppData\\Local\\Temp\\ipykernel_18500\\1894728935.py:7: FutureWarning:\n",
            "\n",
            "suggest_loguniform has been deprecated in v3.0.0. This feature will be removed in v6.0.0. See https://github.com/optuna/optuna/releases/tag/v3.0.0. Use suggest_float(..., log=True) instead.\n",
            "\n",
            "[I 2025-08-27 18:25:32,268] Trial 2 finished with value: 0.08037655672098931 and parameters: {'learning_rate': 0.0008179499475211679, 'max_bins': 299, 'max_leaves': 29, 'max_rounds': 618, 'interactions': 6, 'outer_bags': 8, 'inner_bags': 2, 'greedy_ratio': 7.327236865873834}. Best is trial 1 with value: 0.0751687393707483.\n",
            "C:\\Users\\Isara Liyanage\\AppData\\Local\\Temp\\ipykernel_18500\\1894728935.py:7: FutureWarning:\n",
            "\n",
            "suggest_loguniform has been deprecated in v3.0.0. This feature will be removed in v6.0.0. See https://github.com/optuna/optuna/releases/tag/v3.0.0. Use suggest_float(..., log=True) instead.\n",
            "\n",
            "[I 2025-08-27 18:26:11,533] Trial 3 finished with value: 0.07823632335215647 and parameters: {'learning_rate': 0.0023345864076016252, 'max_bins': 416, 'max_leaves': 14, 'max_rounds': 1053, 'interactions': 6, 'outer_bags': 5, 'inner_bags': 5, 'greedy_ratio': 3.4104824737458306}. Best is trial 1 with value: 0.0751687393707483.\n",
            "C:\\Users\\Isara Liyanage\\AppData\\Local\\Temp\\ipykernel_18500\\1894728935.py:7: FutureWarning:\n",
            "\n",
            "suggest_loguniform has been deprecated in v3.0.0. This feature will be removed in v6.0.0. See https://github.com/optuna/optuna/releases/tag/v3.0.0. Use suggest_float(..., log=True) instead.\n",
            "\n",
            "[I 2025-08-27 18:29:16,747] Trial 4 finished with value: 0.08826542221864464 and parameters: {'learning_rate': 0.00015673095467235422, 'max_bins': 490, 'max_leaves': 62, 'max_rounds': 1627, 'interactions': 3, 'outer_bags': 6, 'inner_bags': 6, 'greedy_ratio': 8.803049874792027}. Best is trial 1 with value: 0.0751687393707483.\n",
            "C:\\Users\\Isara Liyanage\\AppData\\Local\\Temp\\ipykernel_18500\\1894728935.py:7: FutureWarning:\n",
            "\n",
            "suggest_loguniform has been deprecated in v3.0.0. This feature will be removed in v6.0.0. See https://github.com/optuna/optuna/releases/tag/v3.0.0. Use suggest_float(..., log=True) instead.\n",
            "\n",
            "[I 2025-08-27 18:39:54,727] Trial 5 finished with value: 0.07885414860725848 and parameters: {'learning_rate': 0.00023233503515390126, 'max_bins': 286, 'max_leaves': 4, 'max_rounds': 1824, 'interactions': 2, 'outer_bags': 23, 'inner_bags': 2, 'greedy_ratio': 10.401360423556216}. Best is trial 1 with value: 0.0751687393707483.\n",
            "C:\\Users\\Isara Liyanage\\AppData\\Local\\Temp\\ipykernel_18500\\1894728935.py:7: FutureWarning:\n",
            "\n",
            "suggest_loguniform has been deprecated in v3.0.0. This feature will be removed in v6.0.0. See https://github.com/optuna/optuna/releases/tag/v3.0.0. Use suggest_float(..., log=True) instead.\n",
            "\n",
            "[I 2025-08-27 18:42:54,311] Trial 6 finished with value: 0.07815344356796117 and parameters: {'learning_rate': 0.004366473592979638, 'max_bins': 146, 'max_leaves': 63, 'max_rounds': 1562, 'interactions': 10, 'outer_bags': 29, 'inner_bags': 5, 'greedy_ratio': 18.437484700462335}. Best is trial 1 with value: 0.0751687393707483.\n",
            "C:\\Users\\Isara Liyanage\\AppData\\Local\\Temp\\ipykernel_18500\\1894728935.py:7: FutureWarning:\n",
            "\n",
            "suggest_loguniform has been deprecated in v3.0.0. This feature will be removed in v6.0.0. See https://github.com/optuna/optuna/releases/tag/v3.0.0. Use suggest_float(..., log=True) instead.\n",
            "\n",
            "[I 2025-08-27 18:46:26,885] Trial 7 finished with value: 0.08545544279605033 and parameters: {'learning_rate': 0.00018427970406864567, 'max_bins': 151, 'max_leaves': 4, 'max_rounds': 684, 'interactions': 4, 'outer_bags': 11, 'inner_bags': 7, 'greedy_ratio': 7.135066533871786}. Best is trial 1 with value: 0.0751687393707483.\n",
            "C:\\Users\\Isara Liyanage\\AppData\\Local\\Temp\\ipykernel_18500\\1894728935.py:7: FutureWarning:\n",
            "\n",
            "suggest_loguniform has been deprecated in v3.0.0. This feature will be removed in v6.0.0. See https://github.com/optuna/optuna/releases/tag/v3.0.0. Use suggest_float(..., log=True) instead.\n",
            "\n",
            "[I 2025-08-27 18:54:32,452] Trial 8 finished with value: 0.08065983143864341 and parameters: {'learning_rate': 0.0006963114377829289, 'max_bins': 307, 'max_leaves': 10, 'max_rounds': 1615, 'interactions': 0, 'outer_bags': 32, 'inner_bags': 6, 'greedy_ratio': 3.974313630683448}. Best is trial 1 with value: 0.0751687393707483.\n",
            "C:\\Users\\Isara Liyanage\\AppData\\Local\\Temp\\ipykernel_18500\\1894728935.py:7: FutureWarning:\n",
            "\n",
            "suggest_loguniform has been deprecated in v3.0.0. This feature will be removed in v6.0.0. See https://github.com/optuna/optuna/releases/tag/v3.0.0. Use suggest_float(..., log=True) instead.\n",
            "\n",
            "[I 2025-08-27 18:57:50,723] Trial 9 finished with value: 0.08440290178571419 and parameters: {'learning_rate': 0.00010388823104027947, 'max_bins': 430, 'max_leaves': 46, 'max_rounds': 1472, 'interactions': 8, 'outer_bags': 6, 'inner_bags': 3, 'greedy_ratio': 2.3173811905025943}. Best is trial 1 with value: 0.0751687393707483.\n",
            "C:\\Users\\Isara Liyanage\\AppData\\Local\\Temp\\ipykernel_18500\\1894728935.py:7: FutureWarning:\n",
            "\n",
            "suggest_loguniform has been deprecated in v3.0.0. This feature will be removed in v6.0.0. See https://github.com/optuna/optuna/releases/tag/v3.0.0. Use suggest_float(..., log=True) instead.\n",
            "\n",
            "[I 2025-08-27 18:58:11,348] Trial 10 finished with value: 0.07657524478237887 and parameters: {'learning_rate': 0.046928387646701326, 'max_bins': 66, 'max_leaves': 25, 'max_rounds': 85, 'interactions': 10, 'outer_bags': 16, 'inner_bags': 0, 'greedy_ratio': 0.24615095500207174}. Best is trial 1 with value: 0.0751687393707483.\n",
            "C:\\Users\\Isara Liyanage\\AppData\\Local\\Temp\\ipykernel_18500\\1894728935.py:7: FutureWarning:\n",
            "\n",
            "suggest_loguniform has been deprecated in v3.0.0. This feature will be removed in v6.0.0. See https://github.com/optuna/optuna/releases/tag/v3.0.0. Use suggest_float(..., log=True) instead.\n",
            "\n",
            "[I 2025-08-27 18:58:32,152] Trial 11 finished with value: 0.07624443512234991 and parameters: {'learning_rate': 0.04400592956561866, 'max_bins': 67, 'max_leaves': 21, 'max_rounds': 83, 'interactions': 10, 'outer_bags': 16, 'inner_bags': 0, 'greedy_ratio': 0.21846696254857495}. Best is trial 1 with value: 0.0751687393707483.\n",
            "C:\\Users\\Isara Liyanage\\AppData\\Local\\Temp\\ipykernel_18500\\1894728935.py:7: FutureWarning:\n",
            "\n",
            "suggest_loguniform has been deprecated in v3.0.0. This feature will be removed in v6.0.0. See https://github.com/optuna/optuna/releases/tag/v3.0.0. Use suggest_float(..., log=True) instead.\n",
            "\n",
            "[I 2025-08-27 18:58:45,195] Trial 12 finished with value: 0.07710303098788052 and parameters: {'learning_rate': 0.027416219766519066, 'max_bins': 357, 'max_leaves': 18, 'max_rounds': 62, 'interactions': 8, 'outer_bags': 15, 'inner_bags': 1, 'greedy_ratio': 13.053624004499618}. Best is trial 1 with value: 0.0751687393707483.\n",
            "C:\\Users\\Isara Liyanage\\AppData\\Local\\Temp\\ipykernel_18500\\1894728935.py:7: FutureWarning:\n",
            "\n",
            "suggest_loguniform has been deprecated in v3.0.0. This feature will be removed in v6.0.0. See https://github.com/optuna/optuna/releases/tag/v3.0.0. Use suggest_float(..., log=True) instead.\n",
            "\n",
            "[I 2025-08-27 19:02:41,805] Trial 13 finished with value: 0.0760422987459547 and parameters: {'learning_rate': 0.012690764532532676, 'max_bins': 166, 'max_leaves': 20, 'max_rounds': 1993, 'interactions': 8, 'outer_bags': 23, 'inner_bags': 0, 'greedy_ratio': 0.049078493484987995}. Best is trial 1 with value: 0.0751687393707483.\n",
            "C:\\Users\\Isara Liyanage\\AppData\\Local\\Temp\\ipykernel_18500\\1894728935.py:7: FutureWarning:\n",
            "\n",
            "suggest_loguniform has been deprecated in v3.0.0. This feature will be removed in v6.0.0. See https://github.com/optuna/optuna/releases/tag/v3.0.0. Use suggest_float(..., log=True) instead.\n",
            "\n",
            "[I 2025-08-27 19:04:09,427] Trial 14 finished with value: 0.07673474805577574 and parameters: {'learning_rate': 0.008880768707801596, 'max_bins': 212, 'max_leaves': 33, 'max_rounds': 1998, 'interactions': 8, 'outer_bags': 25, 'inner_bags': 3, 'greedy_ratio': 5.29581751603464}. Best is trial 1 with value: 0.0751687393707483.\n",
            "C:\\Users\\Isara Liyanage\\AppData\\Local\\Temp\\ipykernel_18500\\1894728935.py:7: FutureWarning:\n",
            "\n",
            "suggest_loguniform has been deprecated in v3.0.0. This feature will be removed in v6.0.0. See https://github.com/optuna/optuna/releases/tag/v3.0.0. Use suggest_float(..., log=True) instead.\n",
            "\n",
            "[I 2025-08-27 19:04:51,481] Trial 15 finished with value: 0.0756386709720297 and parameters: {'learning_rate': 0.013877441800700054, 'max_bins': 225, 'max_leaves': 39, 'max_rounds': 1990, 'interactions': 7, 'outer_bags': 21, 'inner_bags': 1, 'greedy_ratio': 1.7822390487028663}. Best is trial 1 with value: 0.0751687393707483.\n",
            "C:\\Users\\Isara Liyanage\\AppData\\Local\\Temp\\ipykernel_18500\\1894728935.py:7: FutureWarning:\n",
            "\n",
            "suggest_loguniform has been deprecated in v3.0.0. This feature will be removed in v6.0.0. See https://github.com/optuna/optuna/releases/tag/v3.0.0. Use suggest_float(..., log=True) instead.\n",
            "\n",
            "[I 2025-08-27 19:05:44,125] Trial 16 finished with value: 0.0781798877014398 and parameters: {'learning_rate': 0.009717427194116918, 'max_bins': 221, 'max_leaves': 42, 'max_rounds': 1290, 'interactions': 6, 'outer_bags': 20, 'inner_bags': 2, 'greedy_ratio': 12.425600364360687}. Best is trial 1 with value: 0.0751687393707483.\n",
            "C:\\Users\\Isara Liyanage\\AppData\\Local\\Temp\\ipykernel_18500\\1894728935.py:7: FutureWarning:\n",
            "\n",
            "suggest_loguniform has been deprecated in v3.0.0. This feature will be removed in v6.0.0. See https://github.com/optuna/optuna/releases/tag/v3.0.0. Use suggest_float(..., log=True) instead.\n",
            "\n",
            "[I 2025-08-27 19:06:40,993] Trial 17 finished with value: 0.07776052244320064 and parameters: {'learning_rate': 0.0837967315869718, 'max_bins': 366, 'max_leaves': 38, 'max_rounds': 1782, 'interactions': 7, 'outer_bags': 12, 'inner_bags': 4, 'greedy_ratio': 5.519339677336642}. Best is trial 1 with value: 0.0751687393707483.\n",
            "C:\\Users\\Isara Liyanage\\AppData\\Local\\Temp\\ipykernel_18500\\1894728935.py:7: FutureWarning:\n",
            "\n",
            "suggest_loguniform has been deprecated in v3.0.0. This feature will be removed in v6.0.0. See https://github.com/optuna/optuna/releases/tag/v3.0.0. Use suggest_float(..., log=True) instead.\n",
            "\n",
            "[I 2025-08-27 19:07:22,742] Trial 18 finished with value: 0.07844871489251048 and parameters: {'learning_rate': 0.005726703217852125, 'max_bins': 257, 'max_leaves': 55, 'max_rounds': 799, 'interactions': 5, 'outer_bags': 19, 'inner_bags': 1, 'greedy_ratio': 2.5878872532283927}. Best is trial 1 with value: 0.0751687393707483.\n",
            "C:\\Users\\Isara Liyanage\\AppData\\Local\\Temp\\ipykernel_18500\\1894728935.py:7: FutureWarning:\n",
            "\n",
            "suggest_loguniform has been deprecated in v3.0.0. This feature will be removed in v6.0.0. See https://github.com/optuna/optuna/releases/tag/v3.0.0. Use suggest_float(..., log=True) instead.\n",
            "\n",
            "[I 2025-08-27 19:09:01,457] Trial 19 finished with value: 0.07793563420513827 and parameters: {'learning_rate': 0.015477774738746447, 'max_bins': 360, 'max_leaves': 34, 'max_rounds': 1367, 'interactions': 9, 'outer_bags': 13, 'inner_bags': 8, 'greedy_ratio': 13.947816042756251}. Best is trial 1 with value: 0.0751687393707483.\n",
            "C:\\Users\\Isara Liyanage\\AppData\\Local\\Temp\\ipykernel_18500\\1894728935.py:7: FutureWarning:\n",
            "\n",
            "suggest_loguniform has been deprecated in v3.0.0. This feature will be removed in v6.0.0. See https://github.com/optuna/optuna/releases/tag/v3.0.0. Use suggest_float(..., log=True) instead.\n",
            "\n",
            "[I 2025-08-27 19:10:12,146] Trial 20 finished with value: 0.07924616676160756 and parameters: {'learning_rate': 0.0025013585221980742, 'max_bins': 422, 'max_leaves': 53, 'max_rounds': 1798, 'interactions': 7, 'outer_bags': 26, 'inner_bags': 1, 'greedy_ratio': 6.013604918124161}. Best is trial 1 with value: 0.0751687393707483.\n",
            "C:\\Users\\Isara Liyanage\\AppData\\Local\\Temp\\ipykernel_18500\\1894728935.py:7: FutureWarning:\n",
            "\n",
            "suggest_loguniform has been deprecated in v3.0.0. This feature will be removed in v6.0.0. See https://github.com/optuna/optuna/releases/tag/v3.0.0. Use suggest_float(..., log=True) instead.\n",
            "\n",
            "[I 2025-08-27 19:11:02,025] Trial 21 finished with value: 0.0743316857993197 and parameters: {'learning_rate': 0.01833554042003273, 'max_bins': 162, 'max_leaves': 11, 'max_rounds': 1988, 'interactions': 9, 'outer_bags': 22, 'inner_bags': 1, 'greedy_ratio': 1.3871270389073667}. Best is trial 21 with value: 0.0743316857993197.\n",
            "C:\\Users\\Isara Liyanage\\AppData\\Local\\Temp\\ipykernel_18500\\1894728935.py:7: FutureWarning:\n",
            "\n",
            "suggest_loguniform has been deprecated in v3.0.0. This feature will be removed in v6.0.0. See https://github.com/optuna/optuna/releases/tag/v3.0.0. Use suggest_float(..., log=True) instead.\n",
            "\n",
            "[I 2025-08-27 19:12:13,441] Trial 22 finished with value: 0.0754491761813949 and parameters: {'learning_rate': 0.0241749607098485, 'max_bins': 197, 'max_leaves': 10, 'max_rounds': 1890, 'interactions': 9, 'outer_bags': 21, 'inner_bags': 3, 'greedy_ratio': 1.9079800775133076}. Best is trial 21 with value: 0.0743316857993197.\n",
            "C:\\Users\\Isara Liyanage\\AppData\\Local\\Temp\\ipykernel_18500\\1894728935.py:7: FutureWarning:\n",
            "\n",
            "suggest_loguniform has been deprecated in v3.0.0. This feature will be removed in v6.0.0. See https://github.com/optuna/optuna/releases/tag/v3.0.0. Use suggest_float(..., log=True) instead.\n",
            "\n",
            "[I 2025-08-27 19:13:10,554] Trial 23 finished with value: 0.0757749550062744 and parameters: {'learning_rate': 0.026214005924717752, 'max_bins': 103, 'max_leaves': 10, 'max_rounds': 1764, 'interactions': 9, 'outer_bags': 18, 'inner_bags': 3, 'greedy_ratio': 4.057619916037388}. Best is trial 21 with value: 0.0743316857993197.\n",
            "C:\\Users\\Isara Liyanage\\AppData\\Local\\Temp\\ipykernel_18500\\1894728935.py:7: FutureWarning:\n",
            "\n",
            "suggest_loguniform has been deprecated in v3.0.0. This feature will be removed in v6.0.0. See https://github.com/optuna/optuna/releases/tag/v3.0.0. Use suggest_float(..., log=True) instead.\n",
            "\n",
            "[I 2025-08-27 19:15:24,404] Trial 24 finished with value: 0.07857009991496589 and parameters: {'learning_rate': 0.08574861778847218, 'max_bins': 186, 'max_leaves': 3, 'max_rounds': 1841, 'interactions': 9, 'outer_bags': 25, 'inner_bags': 4, 'greedy_ratio': 1.3576289749331676}. Best is trial 21 with value: 0.0743316857993197.\n",
            "C:\\Users\\Isara Liyanage\\AppData\\Local\\Temp\\ipykernel_18500\\1894728935.py:7: FutureWarning:\n",
            "\n",
            "suggest_loguniform has been deprecated in v3.0.0. This feature will be removed in v6.0.0. See https://github.com/optuna/optuna/releases/tag/v3.0.0. Use suggest_float(..., log=True) instead.\n",
            "\n",
            "[I 2025-08-27 19:16:37,068] Trial 25 finished with value: 0.07410594319645325 and parameters: {'learning_rate': 0.0067920953019358, 'max_bins': 122, 'max_leaves': 10, 'max_rounds': 350, 'interactions': 9, 'outer_bags': 28, 'inner_bags': 2, 'greedy_ratio': 4.336245909846427}. Best is trial 25 with value: 0.07410594319645325.\n",
            "C:\\Users\\Isara Liyanage\\AppData\\Local\\Temp\\ipykernel_18500\\1894728935.py:7: FutureWarning:\n",
            "\n",
            "suggest_loguniform has been deprecated in v3.0.0. This feature will be removed in v6.0.0. See https://github.com/optuna/optuna/releases/tag/v3.0.0. Use suggest_float(..., log=True) instead.\n",
            "\n",
            "[I 2025-08-27 19:17:48,215] Trial 26 finished with value: 0.07479865049782031 and parameters: {'learning_rate': 0.006775395986332187, 'max_bins': 121, 'max_leaves': 14, 'max_rounds': 976, 'interactions': 10, 'outer_bags': 28, 'inner_bags': 2, 'greedy_ratio': 9.520734347413935}. Best is trial 25 with value: 0.07410594319645325.\n",
            "C:\\Users\\Isara Liyanage\\AppData\\Local\\Temp\\ipykernel_18500\\1894728935.py:7: FutureWarning:\n",
            "\n",
            "suggest_loguniform has been deprecated in v3.0.0. This feature will be removed in v6.0.0. See https://github.com/optuna/optuna/releases/tag/v3.0.0. Use suggest_float(..., log=True) instead.\n",
            "\n",
            "[I 2025-08-27 19:19:10,656] Trial 27 finished with value: 0.07513158858810509 and parameters: {'learning_rate': 0.004068686664807487, 'max_bins': 119, 'max_leaves': 14, 'max_rounds': 322, 'interactions': 10, 'outer_bags': 29, 'inner_bags': 2, 'greedy_ratio': 9.674908245727373}. Best is trial 25 with value: 0.07410594319645325.\n",
            "C:\\Users\\Isara Liyanage\\AppData\\Local\\Temp\\ipykernel_18500\\1894728935.py:7: FutureWarning:\n",
            "\n",
            "suggest_loguniform has been deprecated in v3.0.0. This feature will be removed in v6.0.0. See https://github.com/optuna/optuna/releases/tag/v3.0.0. Use suggest_float(..., log=True) instead.\n",
            "\n",
            "[I 2025-08-27 19:21:28,118] Trial 28 finished with value: 0.07857435677547708 and parameters: {'learning_rate': 0.0023715536072612246, 'max_bins': 108, 'max_leaves': 26, 'max_rounds': 442, 'interactions': 10, 'outer_bags': 29, 'inner_bags': 4, 'greedy_ratio': 10.91447041038899}. Best is trial 25 with value: 0.07410594319645325.\n",
            "C:\\Users\\Isara Liyanage\\AppData\\Local\\Temp\\ipykernel_18500\\1894728935.py:7: FutureWarning:\n",
            "\n",
            "suggest_loguniform has been deprecated in v3.0.0. This feature will be removed in v6.0.0. See https://github.com/optuna/optuna/releases/tag/v3.0.0. Use suggest_float(..., log=True) instead.\n",
            "\n",
            "[I 2025-08-27 19:23:45,522] Trial 29 finished with value: 0.07782605229591832 and parameters: {'learning_rate': 0.0011838081013088744, 'max_bins': 134, 'max_leaves': 15, 'max_rounds': 925, 'interactions': 5, 'outer_bags': 31, 'inner_bags': 2, 'greedy_ratio': 7.895709540296176}. Best is trial 25 with value: 0.07410594319645325.\n"
          ]
        },
        {
          "name": "stdout",
          "output_type": "stream",
          "text": [
            "[HPO] Best trial: {'learning_rate': 0.0067920953019358, 'max_bins': 122, 'max_leaves': 10, 'max_rounds': 350, 'interactions': 9, 'outer_bags': 28, 'inner_bags': 2, 'greedy_ratio': 4.336245909846427}\n",
            "\n",
            "=== Model Evaluation Results ===\n",
            "ROC_AUC (TEST_SCORE_MEAN): 0.9259\n",
            "F1        : 0.6960\n",
            "ACCURACY  : 0.8684\n",
            "\n",
            "Confusion Matrix:\n"
          ]
        },
        {
          "data": {
            "image/png": "[encoded data removed]",
            "text/plain": [
              "<Figure size 640x480 with 2 Axes>"
            ]
          },
          "metadata": {},
          "output_type": "display_data"
        },
        {
          "data": {
            "text/html": [
              "<!-- http://127.0.0.1:7001/1614929196384/ -->\n",
              "<iframe src=\"http://127.0.0.1:7001/1614929196384/\" width=100% height=800 frameBorder=\"0\"></iframe>"
            ]
          },
          "metadata": {},
          "output_type": "display_data"
        },
        {
          "name": "stdout",
          "output_type": "stream",
          "text": [
            "[BEST_ON_VAL] {'roc_auc (test_score_mean)': 0.9258940568035467, 'f1': 0.6959914863426747, 'accuracy': 0.8683968058968059}\n"
          ]
        },
        {
          "data": {
            "text/plain": [
              "['out\\\\ebm_best_val_without_dp.pkl']"
            ]
          },
          "execution_count": 22,
          "metadata": {},
          "output_type": "execute_result"
        }
      ],
      "source": [
        "print('[INFO] Running HPO (Optuna)...')\n",
        "study = run_hpo_ebm_without_dp(X_train, y_train, X_val, y_val, sens_val, n_trials=30, output_dir=output_dir)\n",
        "print('[HPO] Best trial:', study.best_trial.params)\n",
        "# Train model with best params and evaluate on validation and test\n",
        "best_params = study.best_trial.user_attrs.get('params', {})\n",
        "ebm_best, best_metrics, best_preds = train_baseline_ebm(X_train, y_train, X_val, y_val, params=best_params)\n",
        "print('[BEST_ON_VAL]', best_metrics)\n",
        "joblib.dump(ebm_best, os.path.join(output_dir, 'ebm_best_val_without_dp.pkl'))"
      ]
    },
    {
      "cell_type": "code",
      "execution_count": 34,
      "metadata": {},
      "outputs": [
        {
          "name": "stdout",
          "output_type": "stream",
          "text": [
            "[INFO] Pretraining autoencoder and deriving init_score...\n",
            "[INFO] Training EBM initialized from pretrain init_scores...\n",
            "\n",
            "=== Model Evaluation Results ===\n",
            "ROC_AUC (TEST_SCORE_MEAN): 0.9215\n",
            "F1        : 0.6865\n",
            "ACCURACY  : 0.8670\n",
            "\n",
            "Confusion Matrix:\n"
          ]
        },
        {
          "data": {
            "image/png": "[encoded data removed]",
            "text/plain": [
              "<Figure size 640x480 with 2 Axes>"
            ]
          },
          "metadata": {},
          "output_type": "display_data"
        },
        {
          "data": {
            "text/html": [
              "<!-- http://127.0.0.1:7001/1615095771120/ -->\n",
              "<iframe src=\"http://127.0.0.1:7001/1615095771120/\" width=100% height=800 frameBorder=\"0\"></iframe>"
            ]
          },
          "metadata": {},
          "output_type": "display_data"
        },
        {
          "name": "stdout",
          "output_type": "stream",
          "text": [
            "[PRETRAIN_INIT] {'roc_auc (test_score_mean)': 0.9214856907568854, 'f1': 0.6864590876176684, 'accuracy': 0.867014742014742}\n"
          ]
        },
        {
          "data": {
            "text/plain": [
              "['out\\\\ebm_pretrained_init.pkl']"
            ]
          },
          "execution_count": 34,
          "metadata": {},
          "output_type": "execute_result"
        }
      ],
      "source": [
        "print('[INFO] Pretraining autoencoder and deriving init_score...')\n",
        "# Use all X_train + X_val + X_test as unlabeled pool for pretraining; use small labeled subset for classifier on latent.\n",
        "X_unlabeled = X_all  # full data for self-supervision (practical choice)\n",
        "# small labeled subset (simulate cold-start)\n",
        "small_idx = np.random.choice(range(len(X_train)), size=max(20, int(0.05 * len(X_train))), replace=False)\n",
        "X_small_labeled = X_train[small_idx]\n",
        "y_small = y_train[small_idx]\n",
        "init_scores_full, ae_model, small_clf = pretrain_autoencoder_get_init_scores(\n",
        "    X_unlabeled, X_small_labeled, y_small, epochs=20, batch_size=256, latent_dim=32)\n",
        "# Train EBM with init_score (init_score accepts per-sample scores)\n",
        "# NOTE: InterpretML expects init_score to be either per-sample score array or a model that produces scores.\n",
        "print('[INFO] Training EBM initialized from pretrain init_scores...')\n",
        "ebm_pre, pre_metrics, pre_preds = train_baseline_ebm(X_train, y_train, X_val, y_val, init_score=init_scores_full[:len(X_train)])\n",
        "print('[PRETRAIN_INIT]', pre_metrics)\n",
        "joblib.dump(ebm_pre, os.path.join(output_dir, 'ebm_pretrained_init.pkl'))"
      ]
    },
    {
      "cell_type": "code",
      "execution_count": 36,
      "metadata": {},
      "outputs": [
        {
          "name": "stdout",
          "output_type": "stream",
          "text": [
            "[INFO] Pretraining autoencoder and deriving init_score...\n",
            "[INFO] Training EBM initialized from pretrain init_scores...\n",
            "\n",
            "=== Model Evaluation Results ===\n",
            "ROC_AUC (TEST_SCORE_MEAN): 0.9214\n",
            "F1        : 0.6886\n",
            "ACCURACY  : 0.8675\n",
            "\n",
            "Confusion Matrix:\n"
          ]
        },
        {
          "data": {
            "image/png": "[encoded data removed]",
            "text/plain": [
              "<Figure size 640x480 with 2 Axes>"
            ]
          },
          "metadata": {},
          "output_type": "display_data"
        },
        {
          "data": {
            "text/html": [
              "<!-- http://127.0.0.1:7001/1615026805680/ -->\n",
              "<iframe src=\"http://127.0.0.1:7001/1615026805680/\" width=100% height=800 frameBorder=\"0\"></iframe>"
            ]
          },
          "metadata": {},
          "output_type": "display_data"
        },
        {
          "name": "stdout",
          "output_type": "stream",
          "text": [
            "[PRETRAIN_INIT] {'roc_auc (test_score_mean)': 0.9214064873522224, 'f1': 0.6885600866113316, 'accuracy': 0.8674754299754299}\n"
          ]
        },
        {
          "data": {
            "text/plain": [
              "['out\\\\ebm_pretrained_init.pkl']"
            ]
          },
          "execution_count": 36,
          "metadata": {},
          "output_type": "execute_result"
        }
      ],
      "source": [
        "print('[INFO] Pretraining autoencoder and deriving init_score...')\n",
        "# Use all X_train + X_val + X_test as unlabeled pool for pretraining; use small labeled subset for classifier on latent.\n",
        "X_unlabeled = X_all  # full data for self-supervision (practical choice)\n",
        "# small labeled subset (simulate cold-start)\n",
        "small_idx = np.random.choice(range(len(X_train)), size=int(0.2 * len(X_train)), replace=False)\n",
        "X_small_labeled = X_train[small_idx]\n",
        "y_small = y_train[small_idx]\n",
        "init_scores_full, ae_model, small_clf = pretrain_autoencoder_get_init_scores(\n",
        "    X_unlabeled, X_small_labeled, y_small, epochs=20, batch_size=256, latent_dim=32)\n",
        "# Train EBM with init_score (init_score accepts per-sample scores)\n",
        "# NOTE: InterpretML expects init_score to be either per-sample score array or a model that produces scores.\n",
        "print('[INFO] Training EBM initialized from pretrain init_scores...')\n",
        "ebm_pre, pre_metrics, pre_preds = train_baseline_ebm(X_train, y_train, X_val, y_val, init_score=init_scores_full[:len(X_train)])\n",
        "print('[PRETRAIN_INIT]', pre_metrics)\n",
        "joblib.dump(ebm_pre, os.path.join(output_dir, 'ebm_pretrained_init.pkl'))"
      ]
    },
    {
      "cell_type": "code",
      "execution_count": null,
      "metadata": {},
      "outputs": [],
      "source": []
    }
  ],
  "metadata": {
    "colab": {
      "provenance": []
    },
    "kernelspec": {
      "display_name": "Python 3",
      "name": "python3"
    },
    "language_info": {
      "codemirror_mode": {
        "name": "ipython",
        "version": 3
      },
      "file_extension": ".py",
      "mimetype": "text/x-python",
      "name": "python",
      "nbconvert_exporter": "python",
      "pygments_lexer": "ipython3",
      "version": "3.12.0"
    }
  },
  "nbformat": 4,
  "nbformat_minor": 0
}
